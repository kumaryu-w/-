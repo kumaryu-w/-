{
  "nbformat": 4,
  "nbformat_minor": 0,
  "metadata": {
    "colab": {
      "name": "素数を出力する.ipynb",
      "provenance": [],
      "collapsed_sections": [],
      "authorship_tag": "ABX9TyOWFEUcDB59KIVIPLqDqfNx",
      "include_colab_link": true
    },
    "kernelspec": {
      "name": "python3",
      "display_name": "Python 3"
    },
    "language_info": {
      "name": "python"
    }
  },
  "cells": [
    {
      "cell_type": "markdown",
      "metadata": {
        "id": "view-in-github",
        "colab_type": "text"
      },
      "source": [
        "<a href=\"https://colab.research.google.com/github/kumaryu-w/-/blob/main/%E7%B4%A0%E6%95%B0%E3%82%92%E5%87%BA%E5%8A%9B%E3%81%99%E3%82%8B.ipynb\" target=\"_parent\"><img src=\"https://colab.research.google.com/assets/colab-badge.svg\" alt=\"Open In Colab\"/></a>"
      ]
    },
    {
      "cell_type": "code",
      "execution_count": 1,
      "metadata": {
        "colab": {
          "base_uri": "https://localhost:8080/"
        },
        "id": "bO4Thv_64jhZ",
        "outputId": "29e0e702-1acf-48c9-8226-5520de966428"
      },
      "outputs": [
        {
          "output_type": "stream",
          "name": "stdout",
          "text": [
            "[2, 3, 5, 7, 11, 13, 17, 19, 23, 29, 31, 37, 41, 43, 47, 53, 59, 61, 67, 71, 73, 79, 83, 89, 97, 101, 103, 107, 109, 113, 127, 131, 137, 139, 149, 151, 157, 163, 167, 173, 179, 181, 191, 193, 197, 199, 211, 223, 227, 229, 233, 239, 241, 251, 257, 263, 269, 271, 277, 281, 283, 293, 307, 311, 313, 317, 331, 337, 347, 349, 353, 359, 367, 373, 379, 383, 389, 397, 401, 409, 419, 421, 431, 433, 439, 443, 449, 457, 461, 463, 467, 479, 487, 491, 499, 503, 509, 521, 523, 541, 547, 557, 563, 569, 571, 577, 587, 593, 599, 601, 607, 613, 617, 619, 631, 641, 643, 647, 653, 659, 661, 673, 677, 683, 691, 701, 709, 719, 727, 733, 739, 743, 751, 757, 761, 769, 773, 787, 797, 809, 811, 821, 823, 827, 829, 839, 853, 857, 859, 863, 877, 881, 883, 887, 907, 911, 919, 929, 937, 941, 947, 953, 967, 971, 977, 983, 991, 997]\n"
          ]
        }
      ],
      "source": [
        "#素数を判定する関数\n",
        "def check(j):\n",
        "  for i in range(2,j):\n",
        "    if j%i == 0:\n",
        "      return False\n",
        "  return True\n",
        "#2～1000までの素数を関数で確認し、sosuu配列に追加\n",
        "sosuu=[]\n",
        "for i in range(2,1001):\n",
        "  ch=check(i)\n",
        "  if ch==True:\n",
        "    sosuu.append(i)\n",
        "print(sosuu)\n",
        "# textファイルとして出力（数字10個で1行）\n",
        "f=open(\"sosuu_output.txt\", \"w\")\n",
        "f.write(\"1000以下の素数の出力結果\\n\")\n",
        "for i,so in enumerate(sosuu):\n",
        "  if i%10==0 and i!=0:\n",
        "    f.write(\"\\n\")\n",
        "  f.write(str(so).zfill(3))\n",
        "  if i!=len(sosuu)-1:\n",
        "    f.write(\",\")\n",
        "f.close()"
      ]
    },
    {
      "cell_type": "code",
      "source": [
        ""
      ],
      "metadata": {
        "id": "Q_Nv2OFg6xFp"
      },
      "execution_count": null,
      "outputs": []
    }
  ]
}